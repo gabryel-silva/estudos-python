{
  "cells": [
    {
      "cell_type": "markdown",
      "metadata": {
        "id": "view-in-github",
        "colab_type": "text"
      },
      "source": [
        "<a href=\"https://colab.research.google.com/github/gabryel-silva/estudos-python/blob/main/revisao_prova_a2.ipynb\" target=\"_parent\"><img src=\"https://colab.research.google.com/assets/colab-badge.svg\" alt=\"Open In Colab\"/></a>"
      ]
    },
    {
      "cell_type": "markdown",
      "id": "aa85b290",
      "metadata": {
        "id": "aa85b290"
      },
      "source": [
        "## Revisão A2\n",
        "\n",
        "### Declaração de varíaveis\n",
        "\n",
        "Variáveis são posições da memória reservada para armazenar um determiando valor, que tem um nome específico associado a cada\n",
        "variável. No caso específico do Python, o nome da variável deve atender às seguintes regras:\n",
        "\n",
        "* Começar com letra ou underline;\n",
        "* Se for um nome composto, não pode conter espaço em branco;\n",
        "* Os nomes são “case sensitive”;\n",
        "* Use nomes que sejam auto-explicativos.\n",
        "\n",
        "##### Declaração implícita\n",
        "\n",
        "No python você não precisa definir o tipo de uma variável, que podem ser em geral do tipo: string, integer e float. Basta atribuir um valor a uma variável, depois, se quiser, podemos saber o tipo do dado armazenado usando type."
      ]
    },
    {
      "cell_type": "code",
      "execution_count": null,
      "id": "d233c49c",
      "metadata": {
        "id": "d233c49c",
        "outputId": "0cc8ff26-7206-4f5f-f7c3-4de6c147e378"
      },
      "outputs": [
        {
          "name": "stdout",
          "output_type": "stream",
          "text": [
            "Saída:\n",
            "Gabryel\n"
          ]
        }
      ],
      "source": [
        "print('Saída:')\n",
        "var_nome = 'Gabryel'\n",
        "print(var_nome)"
      ]
    },
    {
      "cell_type": "markdown",
      "id": "ed1983cf",
      "metadata": {
        "id": "ed1983cf"
      },
      "source": [
        "### Entrada e saída de dados\n",
        "\n",
        "Podemos utilizar duas funções simples para entrada e saída de dados: `input( )` e `print( )`.\n",
        "`variável = input(“texto”)`\n",
        "\n",
        "Onde:\n",
        "* variável = nome da variável que irá receber o valor lido\n",
        "* “texto” é a pergunta que você pode fazer ao usuário\n",
        "`print(\"texto {} texto{}\".format(variável1,variável2))`\n",
        "\n",
        "Onde:\n",
        "* texto é parte da informação que você quer mostrar na tela\n",
        "* `{}` é o local do texto onde você quer inserir um valor\n",
        "* `format()` é uma função que converte o valor para uma representação formatada\n",
        "\n",
        "A entrada de dados com input será sempre lida como um string.\n",
        "\n",
        "##### Exemplo:"
      ]
    },
    {
      "cell_type": "code",
      "execution_count": null,
      "id": "33236def",
      "metadata": {
        "id": "33236def",
        "outputId": "32ec1df3-8cf9-499c-adbe-634a0f71b0de"
      },
      "outputs": [
        {
          "name": "stdout",
          "output_type": "stream",
          "text": [
            "Entrada e Saída: \n",
            "Qual é o seu nome?Gabryel\n",
            "Meu nome é Gabryel\n",
            "<class 'str'>\n"
          ]
        }
      ],
      "source": [
        "print(\"Entrada e Saída: \")\n",
        "\n",
        "var_nome = input('Qual é o seu nome?')\n",
        "print(\"Meu nome é {}\".format(var_nome))\n",
        "\n",
        "# ou print(f\"Meu nome é {var_nome}\")\n",
        "print(type(var_nome))"
      ]
    },
    {
      "cell_type": "markdown",
      "id": "07128afc",
      "metadata": {
        "id": "07128afc"
      },
      "source": [
        "### Casting\n",
        "\n",
        "É a operação que muda um valor de um tipo para outro. Por exemplo, sabemos que a entrada da função input retorna sempre um string. Se quisermos converter de string para inteiro, devemos usar o casting.\n",
        "\n",
        "##### Exemplo:"
      ]
    },
    {
      "cell_type": "code",
      "execution_count": null,
      "id": "39c1a19e",
      "metadata": {
        "id": "39c1a19e",
        "outputId": "68ee32ca-e9ce-41a2-b047-cb01c4b490aa"
      },
      "outputs": [
        {
          "name": "stdout",
          "output_type": "stream",
          "text": [
            "Entrada e Saída: \n",
            "Qual é a sua idade?22\n",
            "<class 'str'>\n",
            "<class 'int'>\n"
          ]
        }
      ],
      "source": [
        "print(\"Entrada e Saída: \")\n",
        "\n",
        "var_idade = input(\"Qual é a sua idade?\")\n",
        "\n",
        "#Antes da conversão\n",
        "print(type(var_idade))\n",
        "\n",
        "#Após a conversão\n",
        "print(type(int(var_idade)))"
      ]
    },
    {
      "cell_type": "markdown",
      "id": "31370c0c",
      "metadata": {
        "id": "31370c0c"
      },
      "source": [
        "## Numpay\n",
        "\n",
        "Segundo o site https://numpy.org/, o NumPy é o pacote fundamental para a computação científica com Python. Ele contém entre outras coisas:\n",
        "\n",
        "* um poderoso objeto de matriz N-dimensional;\n",
        "* funções sofisticadas (transmissão);\n",
        "* ferramentas para integrar códigos escritos em C / C ++ e Fortran;\n",
        "* recursos úteis de álgebra linear, transformação de Fourier e números aleatórios.\n",
        "\n",
        "Além de seus óbvios usos científicos, o NumPy também pode ser usado como um eficiente recipiente multidimensional de dados genéricos. Tipos de dados arbitrários podem ser definidos. Isso permite que o NumPy se integre de maneira fácil e rápida a uma ampla variedade de bancos de dados. O NumPy é licenciado sob a licença BSD , permitindo a reutilização com poucas restrições. Compreender o uso do NumPy pode ajudar a usar ferramentas de análise de dados como o Pandas, cujas principais operações são as seguintes operações, por exemplo:\n",
        "\n",
        "    1.1. remoção e limpeza de dados;\n",
        "    1.2. subconjunto e filtragem;\n",
        "    1.3. transformação;\n",
        "    1.4. classificação, únicas e definidas;\n",
        "    1.5. estatísticas descritivas eficientes e agregação;\n",
        "    1.6. mesclar e unir conjuntos de dados heterogêneos.\n"
      ]
    }
  ],
  "metadata": {
    "kernelspec": {
      "display_name": "Python 3 (ipykernel)",
      "language": "python",
      "name": "python3"
    },
    "language_info": {
      "codemirror_mode": {
        "name": "ipython",
        "version": 3
      },
      "file_extension": ".py",
      "mimetype": "text/x-python",
      "name": "python",
      "nbconvert_exporter": "python",
      "pygments_lexer": "ipython3",
      "version": "3.9.13"
    },
    "colab": {
      "provenance": [],
      "include_colab_link": true
    }
  },
  "nbformat": 4,
  "nbformat_minor": 5
}