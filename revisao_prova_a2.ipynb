{
  "cells": [
    {
      "cell_type": "markdown",
      "metadata": {
        "id": "view-in-github",
        "colab_type": "text"
      },
      "source": [
        "<a href=\"https://colab.research.google.com/github/gabryel-silva/estudos-python/blob/main/revisao_prova_a2.ipynb\" target=\"_parent\"><img src=\"https://colab.research.google.com/assets/colab-badge.svg\" alt=\"Open In Colab\"/></a>"
      ]
    },
    {
      "cell_type": "markdown",
      "id": "aa85b290",
      "metadata": {
        "id": "aa85b290"
      },
      "source": [
        "#### ***Declaração de varíaveis***\n",
        "\n",
        "Variáveis são posições da memória reservada para armazenar um determiando valor, que tem um nome específico associado a cada\n",
        "variável. No caso específico do Python, o nome da variável deve atender às seguintes regras:\n",
        "\n",
        "* Começar com letra ou underline;\n",
        "* Se for um nome composto, não pode conter espaço em branco;\n",
        "* Os nomes são “case sensitive”;\n",
        "* Use nomes que sejam auto-explicativos.\n",
        "\n",
        "##### Declaração implícita\n",
        "\n",
        "No python você não precisa definir o tipo de uma variável, que podem ser em geral do tipo: string, integer e float. Basta atribuir um valor a uma variável, depois, se quiser, podemos saber o tipo do dado armazenado usando type."
      ]
    },
    {
      "cell_type": "code",
      "execution_count": null,
      "id": "d233c49c",
      "metadata": {
        "id": "d233c49c",
        "outputId": "0cc8ff26-7206-4f5f-f7c3-4de6c147e378"
      },
      "outputs": [
        {
          "name": "stdout",
          "output_type": "stream",
          "text": [
            "Saída:\n",
            "Gabryel\n"
          ]
        }
      ],
      "source": [
        "print('Saída:')\n",
        "var_nome = 'Gabryel'\n",
        "print(var_nome)"
      ]
    },
    {
      "cell_type": "markdown",
      "id": "ed1983cf",
      "metadata": {
        "id": "ed1983cf"
      },
      "source": [
        "#### ***Entrada e saída de dados***\n",
        "\n",
        "Podemos utilizar duas funções simples para entrada e saída de dados: `input( )` e `print( )`.\n",
        "`variável = input(“texto”)`\n",
        "\n",
        "Onde:\n",
        "* variável = nome da variável que irá receber o valor lido\n",
        "* “texto” é a pergunta que você pode fazer ao usuário\n",
        "`print(\"texto {} texto{}\".format(variável1,variável2))`\n",
        "\n",
        "Onde:\n",
        "* texto é parte da informação que você quer mostrar na tela\n",
        "* `{}` é o local do texto onde você quer inserir um valor\n",
        "* `format()` é uma função que converte o valor para uma representação formatada\n",
        "\n",
        "A entrada de dados com input será sempre lida como um string.\n",
        "\n",
        "##### Exemplo:"
      ]
    },
    {
      "cell_type": "code",
      "execution_count": null,
      "id": "33236def",
      "metadata": {
        "id": "33236def",
        "outputId": "32ec1df3-8cf9-499c-adbe-634a0f71b0de"
      },
      "outputs": [
        {
          "name": "stdout",
          "output_type": "stream",
          "text": [
            "Entrada e Saída: \n",
            "Qual é o seu nome?Gabryel\n",
            "Meu nome é Gabryel\n",
            "<class 'str'>\n"
          ]
        }
      ],
      "source": [
        "print(\"Entrada e Saída: \")\n",
        "\n",
        "var_nome = input('Qual é o seu nome?')\n",
        "print(\"Meu nome é {}\".format(var_nome))\n",
        "\n",
        "# ou print(f\"Meu nome é {var_nome}\")\n",
        "print(type(var_nome))"
      ]
    },
    {
      "cell_type": "markdown",
      "id": "07128afc",
      "metadata": {
        "id": "07128afc"
      },
      "source": [
        "#### ***Casting***\n",
        "\n",
        "É a operação que muda um valor de um tipo para outro. Por exemplo, sabemos que a entrada da função input retorna sempre um string. Se quisermos converter de string para inteiro, devemos usar o casting.\n",
        "\n",
        "##### Exemplo:"
      ]
    },
    {
      "cell_type": "code",
      "execution_count": null,
      "id": "39c1a19e",
      "metadata": {
        "id": "39c1a19e",
        "outputId": "68ee32ca-e9ce-41a2-b047-cb01c4b490aa"
      },
      "outputs": [
        {
          "name": "stdout",
          "output_type": "stream",
          "text": [
            "Entrada e Saída: \n",
            "Qual é a sua idade?22\n",
            "<class 'str'>\n",
            "<class 'int'>\n"
          ]
        }
      ],
      "source": [
        "print(\"Entrada e Saída: \")\n",
        "\n",
        "var_idade = input(\"Qual é a sua idade?\")\n",
        "\n",
        "#Antes da conversão\n",
        "print(type(var_idade))\n",
        "\n",
        "#Após a conversão\n",
        "print(type(int(var_idade)))"
      ]
    },
    {
      "cell_type": "markdown",
      "id": "31370c0c",
      "metadata": {
        "id": "31370c0c"
      },
      "source": [
        "## **Numpay**\n",
        "\n",
        "Segundo o site https://numpy.org/, o NumPy é o pacote fundamental para a computação científica com Python. Ele contém entre outras coisas:\n",
        "\n",
        "* um poderoso **objeto de matriz N-dimensional**;\n",
        "* funções sofisticadas (transmissão);\n",
        "* ferramentas para integrar códigos escritos em **C / C ++ e Fortran**;\n",
        "* recursos úteis de álgebra linear, transformação de Fourier e números aleatórios.\n",
        "\n",
        "Além de seus óbvios usos científicos, o NumPy também pode ser usado como um eficiente recipiente multidimensional de dados genéricos. Tipos de dados arbitrários podem ser definidos. Isso permite que o NumPy se integre de maneira fácil e rápida a uma ampla variedade de bancos de dados. O NumPy é licenciado sob a licença BSD , permitindo a reutilização com poucas restrições. Compreender o uso do NumPy pode ajudar a usar ferramentas de análise de dados como o Pandas, cujas principais operações são as seguintes operações, por exemplo:\n",
        "\n",
        "    1.1. remoção e limpeza de dados;\n",
        "    1.2. subconjunto e filtragem;\n",
        "    1.3. transformação;\n",
        "    1.4. classificação, únicas e definidas;\n",
        "    1.5. estatísticas descritivas eficientes e agregação;\n",
        "    1.6. mesclar e unir conjuntos de dados heterogêneos.\n"
      ]
    },
    {
      "cell_type": "markdown",
      "source": [
        "#### ***Instalação do NumPy***\n",
        "Certifique-se que o NumPy está disponível em seu ambiente de desenvolvimento. No caso do Anaconda, na\n",
        "interface do Anaconda Navigator, selecione Environments no menu lateral esquerdo. E certifique-se que o NumPy\n",
        "está instalado."
      ],
      "metadata": {
        "id": "Y_csTQeyhcJk"
      },
      "id": "Y_csTQeyhcJk"
    },
    {
      "cell_type": "markdown",
      "source": [
        "#### ***Começando a usar NumPy***\n",
        "Usaremos a convenção **`import numpy as np`**, de modo que você precisa apenas incluir np. antes do nome do\n",
        "método."
      ],
      "metadata": {
        "id": "nq8vq9EFiIgy"
      },
      "id": "nq8vq9EFiIgy"
    },
    {
      "cell_type": "markdown",
      "source": [
        "#### ***Array***\n",
        "\n",
        "Em Python podemos usar tanto Listas quanto Arrays para armazenar dados, e ambos podem ser indexados e\n",
        "iterados. Os arrays precisam ser declaradas, enquanto as listas não precisam, pois fazem parte da sintaxe nativa\n",
        "do Python. Portanto, as listas são mais usadas que os arrays. Entretanto, se precisar executar alguma função\n",
        "aritmética deve utilizar arrays."
      ],
      "metadata": {
        "id": "U8nbaalsjJTn"
      },
      "id": "U8nbaalsjJTn"
    },
    {
      "cell_type": "code",
      "source": [
        "import numpy as np\n",
        "\n",
        "print(\"Saída: \")\n",
        "\n",
        "listCitys = ['Brasília','Goiânia','Belo horizonte']\n",
        "print(listCitys)"
      ],
      "metadata": {
        "id": "70Xy_WCYjmMv",
        "outputId": "be09d007-d7d4-4688-a35e-5bb69c59208b",
        "colab": {
          "base_uri": "https://localhost:8080/"
        }
      },
      "id": "70Xy_WCYjmMv",
      "execution_count": 3,
      "outputs": [
        {
          "output_type": "stream",
          "name": "stdout",
          "text": [
            "Saída: \n",
            "['Brasília', 'Goiânia', 'Belo horizonte']\n"
          ]
        }
      ]
    },
    {
      "cell_type": "markdown",
      "source": [
        "#### ***Principais funções com arrays***\n",
        "Um ndarray é um contêiner multidimensional genérico para dados homogêneos, ou seja, todos os elementos devem ser do mesmo tipo.\n",
        "\n",
        "* ***`array( )`***: converte dados de entrada (lista, tupla, array ou outro tipo de sequência) em um ndarray;\n",
        "\n",
        "* ***`arange( )`***: como o intervalo interno, mas retorna um ndarray em vez de uma lista;\n",
        "\n",
        "* ***`Ones( )`***: produza uma matriz de todos os 1s com a forma e o tipo especificados. Já a função ones_like leva outra array e produz um array ones da mesma forma e tipo;\n",
        "\n",
        "* ***`Zeros( )`***: produz arrays de zer;\n",
        "\n",
        "* ***`Empty()`***: produz um array vazio, não necessariamente com zeros.\n",
        "\n",
        "\n",
        "##### **Exemplos:**"
      ],
      "metadata": {
        "id": "I7Y_H8BfkjSs"
      },
      "id": "I7Y_H8BfkjSs"
    },
    {
      "cell_type": "code",
      "source": [
        "import numpy as np\n",
        "\n",
        "print(\"Saída: \")\n",
        "\n",
        "dados = [3,5,7,9]\n",
        "print(f\"\\n Dados = {dados}\")\n",
        "\n",
        "array = np.array(dados)\n",
        "print(f\"\\n Array = {array}\")\n",
        "\n",
        "var_arange = np.arange(10)\n",
        "print(f\"\\n Arange = {var_arange}\")\n",
        "\n",
        "var_ones = np.ones((2,2))\n",
        "print(f\"\\n Ones = {var_ones}\")\n",
        "\n",
        "var_zerosX = np.zeros((10))\n",
        "print(f\"\\n Zeros = {var_zerosX}\")\n",
        "\n",
        "var_zerosM = np.zeros((2,3))\n",
        "print(f\"\\n Zeros = {var_zerosM}\")\n",
        "\n",
        "var_empty = np.empty((2,3))\n",
        "print(f\"\\n Empty = {var_empty}\")"
      ],
      "metadata": {
        "id": "lfjg6WkWprwg",
        "outputId": "a7b7f9a4-3e60-4f65-dc04-a5908b33b0b1",
        "colab": {
          "base_uri": "https://localhost:8080/"
        }
      },
      "id": "lfjg6WkWprwg",
      "execution_count": 6,
      "outputs": [
        {
          "output_type": "stream",
          "name": "stdout",
          "text": [
            "Saída: \n",
            "\n",
            " Dados = [3, 5, 7, 9]\n",
            "\n",
            " Array = [3 5 7 9]\n",
            "\n",
            " Arange = [0 1 2 3 4 5 6 7 8 9]\n",
            "\n",
            " Ones = [[1. 1.]\n",
            " [1. 1.]]\n",
            "\n",
            " Zeros = [0. 0. 0. 0. 0. 0. 0. 0. 0. 0.]\n",
            "\n",
            " Zeros = [[0. 0. 0.]\n",
            " [0. 0. 0.]]\n",
            "\n",
            " Empty = [[0. 0. 0.]\n",
            " [0. 0. 0.]]\n"
          ]
        }
      ]
    },
    {
      "cell_type": "markdown",
      "source": [
        "#### ***Operações com arrays***\n",
        "Outra vantagem do array é poder realizar operações em lote com os dados, sem precisar utilizar um loop,\n",
        "também conhecido com vetorização. Inclusive muitas operações simples como **`sqrt`** ou **`exp`**."
      ],
      "metadata": {
        "id": "AqWEgeDXt2z3"
      },
      "id": "AqWEgeDXt2z3"
    },
    {
      "cell_type": "code",
      "source": [
        "import numpy as np\n",
        "\n",
        "print(\"Saída: \")\n",
        "\n",
        "a1 = np.array([[1,2,3],[4,5,6]])\n",
        "print(f\"\\n Array1 = {a1}\")\n",
        "\n",
        "a2 = np.ones((2,3))\n",
        "print(f\"\\n Array2 = {a2}\")\n",
        "\n",
        "var_sum = a1+a2\n",
        "print(f\"\\n Array1 + Array2 = {var_sum}\")\n",
        "\n",
        "var_exp = a1**a2\n",
        "print(f\"\\n Array1 elevado a 2 {var_exp}\")\n",
        "\n",
        "var_sub = a1-a2\n",
        "print(f\"\\n Arra1 - Array2 = {var_sub}\")"
      ],
      "metadata": {
        "id": "Sl6_5P8qt0ST",
        "outputId": "cc416aa9-6f96-4287-9232-c00d2ddeabfc",
        "colab": {
          "base_uri": "https://localhost:8080/"
        }
      },
      "id": "Sl6_5P8qt0ST",
      "execution_count": 10,
      "outputs": [
        {
          "output_type": "stream",
          "name": "stdout",
          "text": [
            "Saída: \n",
            "\n",
            " Array1 = [[1 2 3]\n",
            " [4 5 6]]\n",
            "\n",
            " Array2 = [[1. 1. 1.]\n",
            " [1. 1. 1.]]\n",
            "\n",
            " Array1 + Array2 = [[2. 3. 4.]\n",
            " [5. 6. 7.]]\n",
            "\n",
            " Array1 elevado a 2 [[1. 2. 3.]\n",
            " [4. 5. 6.]]\n",
            "\n",
            " Arra1 - Array2 = [[0. 1. 2.]\n",
            " [3. 4. 5.]]\n"
          ]
        }
      ]
    },
    {
      "cell_type": "markdown",
      "source": [
        "#### ***Outras operações com arrays***\n",
        "Observe que existe uma importante diferença entre lista e arrays. Fatias de um array são visualizações do array original. Portanto, os dados não são copiados e quaisquer modificações na exibição serão refletidas no array original."
      ],
      "metadata": {
        "id": "VjKvWnFmymGt"
      },
      "id": "VjKvWnFmymGt"
    },
    {
      "cell_type": "code",
      "source": [
        "print(\"Saída: \")\n",
        "\n",
        "myList = [3,4,5,7]\n",
        "print(f\"\\n Lista = {myList}\")\n",
        "\n",
        "outList = myList[1:3]\n",
        "print(f\"\\n Parte da lista = {outList}\")\n",
        "\n",
        "outList[1] = 23\n",
        "print(f\"\\n modifica a parte da lista = {outList}\")\n",
        "\n",
        "print(f\"\\n Voltando à lista original = {myList}\")"
      ],
      "metadata": {
        "id": "gudE8bokzPIc",
        "outputId": "2adccd30-5033-445e-c283-ac37e4ac4787",
        "colab": {
          "base_uri": "https://localhost:8080/"
        }
      },
      "id": "gudE8bokzPIc",
      "execution_count": 12,
      "outputs": [
        {
          "output_type": "stream",
          "name": "stdout",
          "text": [
            "Saída: \n",
            "\n",
            " Lista = [3, 4, 5, 7]\n",
            "\n",
            " Parte da lista = [4, 5]\n",
            "\n",
            " modifica a parte da lista = [4, 23]\n",
            "\n",
            " Voltando à lista original = [3, 4, 5, 7]\n"
          ]
        }
      ]
    }
  ],
  "metadata": {
    "kernelspec": {
      "display_name": "Python 3 (ipykernel)",
      "language": "python",
      "name": "python3"
    },
    "language_info": {
      "codemirror_mode": {
        "name": "ipython",
        "version": 3
      },
      "file_extension": ".py",
      "mimetype": "text/x-python",
      "name": "python",
      "nbconvert_exporter": "python",
      "pygments_lexer": "ipython3",
      "version": "3.9.13"
    },
    "colab": {
      "provenance": [],
      "toc_visible": true,
      "include_colab_link": true
    }
  },
  "nbformat": 4,
  "nbformat_minor": 5
}