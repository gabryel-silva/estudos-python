{
  "cells": [
    {
      "cell_type": "markdown",
      "metadata": {
        "id": "view-in-github",
        "colab_type": "text"
      },
      "source": [
        "<a href=\"https://colab.research.google.com/github/gabryel-silva/estudos-python/blob/main/revisao_prova_a2.ipynb\" target=\"_parent\"><img src=\"https://colab.research.google.com/assets/colab-badge.svg\" alt=\"Open In Colab\"/></a>"
      ]
    },
    {
      "cell_type": "markdown",
      "source": [
        "# **Introdução Python**\n"
      ],
      "metadata": {
        "id": "0G7DZsGtONfH"
      },
      "id": "0G7DZsGtONfH"
    },
    {
      "cell_type": "markdown",
      "id": "aa85b290",
      "metadata": {
        "id": "aa85b290"
      },
      "source": [
        "#### ***Declaração de varíaveis***\n",
        "\n",
        "Variáveis são posições da memória reservada para armazenar um determiando valor, que tem um nome específico associado a cada\n",
        "variável. No caso específico do Python, o nome da variável deve atender às seguintes regras:\n",
        "\n",
        "* Começar com letra ou underline;\n",
        "* Se for um nome composto, não pode conter espaço em branco;\n",
        "* Os nomes são “case sensitive”;\n",
        "* Use nomes que sejam auto-explicativos.\n",
        "\n",
        "##### Declaração implícita\n",
        "\n",
        "No python você não precisa definir o tipo de uma variável, que podem ser em geral do tipo: string, integer e float. Basta atribuir um valor a uma variável, depois, se quiser, podemos saber o tipo do dado armazenado usando type."
      ]
    },
    {
      "cell_type": "code",
      "execution_count": null,
      "id": "d233c49c",
      "metadata": {
        "id": "d233c49c",
        "outputId": "0cc8ff26-7206-4f5f-f7c3-4de6c147e378"
      },
      "outputs": [
        {
          "name": "stdout",
          "output_type": "stream",
          "text": [
            "Saída:\n",
            "Gabryel\n"
          ]
        }
      ],
      "source": [
        "print('Saída:')\n",
        "var_nome = 'Gabryel'\n",
        "print(var_nome)"
      ]
    },
    {
      "cell_type": "markdown",
      "id": "ed1983cf",
      "metadata": {
        "id": "ed1983cf"
      },
      "source": [
        "#### ***Entrada e saída de dados***\n",
        "\n",
        "Podemos utilizar duas funções simples para entrada e saída de dados: `input( )` e `print( )`.\n",
        "`variável = input(“texto”)`\n",
        "\n",
        "Onde:\n",
        "* variável = nome da variável que irá receber o valor lido\n",
        "* “texto” é a pergunta que você pode fazer ao usuário\n",
        "`print(\"texto {} texto{}\".format(variável1,variável2))`\n",
        "\n",
        "Onde:\n",
        "* texto é parte da informação que você quer mostrar na tela\n",
        "* `{}` é o local do texto onde você quer inserir um valor\n",
        "* `format()` é uma função que converte o valor para uma representação formatada\n",
        "\n",
        "A entrada de dados com input será sempre lida como um string.\n",
        "\n",
        "##### Exemplo:"
      ]
    },
    {
      "cell_type": "code",
      "execution_count": null,
      "id": "33236def",
      "metadata": {
        "id": "33236def",
        "outputId": "32ec1df3-8cf9-499c-adbe-634a0f71b0de"
      },
      "outputs": [
        {
          "name": "stdout",
          "output_type": "stream",
          "text": [
            "Entrada e Saída: \n",
            "Qual é o seu nome?Gabryel\n",
            "Meu nome é Gabryel\n",
            "<class 'str'>\n"
          ]
        }
      ],
      "source": [
        "print(\"Entrada e Saída: \")\n",
        "\n",
        "var_nome = input('Qual é o seu nome?')\n",
        "print(\"Meu nome é {}\".format(var_nome))\n",
        "\n",
        "# ou print(f\"Meu nome é {var_nome}\")\n",
        "print(type(var_nome))"
      ]
    },
    {
      "cell_type": "markdown",
      "id": "07128afc",
      "metadata": {
        "id": "07128afc"
      },
      "source": [
        "#### ***Casting***\n",
        "\n",
        "É a operação que muda um valor de um tipo para outro. Por exemplo, sabemos que a entrada da função input retorna sempre um string. Se quisermos converter de string para inteiro, devemos usar o casting.\n",
        "\n",
        "##### Exemplo:"
      ]
    },
    {
      "cell_type": "code",
      "execution_count": null,
      "id": "39c1a19e",
      "metadata": {
        "id": "39c1a19e",
        "outputId": "68ee32ca-e9ce-41a2-b047-cb01c4b490aa"
      },
      "outputs": [
        {
          "name": "stdout",
          "output_type": "stream",
          "text": [
            "Entrada e Saída: \n",
            "Qual é a sua idade?22\n",
            "<class 'str'>\n",
            "<class 'int'>\n"
          ]
        }
      ],
      "source": [
        "print(\"Entrada e Saída: \")\n",
        "\n",
        "var_idade = input(\"Qual é a sua idade?\")\n",
        "\n",
        "#Antes da conversão\n",
        "print(type(var_idade))\n",
        "\n",
        "#Após a conversão\n",
        "print(type(int(var_idade)))"
      ]
    },
    {
      "cell_type": "markdown",
      "id": "31370c0c",
      "metadata": {
        "id": "31370c0c"
      },
      "source": [
        "## **Numpay**\n",
        "\n",
        "Segundo o site https://numpy.org/, o NumPy é o pacote fundamental para a computação científica com Python. Ele contém entre outras coisas:\n",
        "\n",
        "* um poderoso **objeto de matriz N-dimensional**;\n",
        "* funções sofisticadas (transmissão);\n",
        "* ferramentas para integrar códigos escritos em **C / C ++ e Fortran**;\n",
        "* recursos úteis de álgebra linear, transformação de Fourier e números aleatórios.\n",
        "\n",
        "Além de seus óbvios usos científicos, o NumPy também pode ser usado como um eficiente recipiente multidimensional de dados genéricos. Tipos de dados arbitrários podem ser definidos. Isso permite que o NumPy se integre de maneira fácil e rápida a uma ampla variedade de bancos de dados. O NumPy é licenciado sob a licença BSD , permitindo a reutilização com poucas restrições. Compreender o uso do NumPy pode ajudar a usar ferramentas de análise de dados como o Pandas, cujas principais operações são as seguintes operações, por exemplo:\n",
        "\n",
        "    1.1. remoção e limpeza de dados;\n",
        "    1.2. subconjunto e filtragem;\n",
        "    1.3. transformação;\n",
        "    1.4. classificação, únicas e definidas;\n",
        "    1.5. estatísticas descritivas eficientes e agregação;\n",
        "    1.6. mesclar e unir conjuntos de dados heterogêneos.\n"
      ]
    },
    {
      "cell_type": "markdown",
      "source": [
        "#### ***Instalação do NumPy***\n",
        "Certifique-se que o NumPy está disponível em seu ambiente de desenvolvimento. No caso do Anaconda, na\n",
        "interface do Anaconda Navigator, selecione Environments no menu lateral esquerdo. E certifique-se que o NumPy\n",
        "está instalado."
      ],
      "metadata": {
        "id": "Y_csTQeyhcJk"
      },
      "id": "Y_csTQeyhcJk"
    },
    {
      "cell_type": "markdown",
      "source": [
        "#### ***Começando a usar NumPy***\n",
        "Usaremos a convenção **`import numpy as np`**, de modo que você precisa apenas incluir np. antes do nome do\n",
        "método."
      ],
      "metadata": {
        "id": "nq8vq9EFiIgy"
      },
      "id": "nq8vq9EFiIgy"
    },
    {
      "cell_type": "markdown",
      "source": [
        "#### ***Array***\n",
        "\n",
        "Em Python podemos usar tanto Listas quanto Arrays para armazenar dados, e ambos podem ser indexados e\n",
        "iterados. Os arrays precisam ser declaradas, enquanto as listas não precisam, pois fazem parte da sintaxe nativa\n",
        "do Python. Portanto, as listas são mais usadas que os arrays. Entretanto, se precisar executar alguma função\n",
        "aritmética deve utilizar arrays."
      ],
      "metadata": {
        "id": "U8nbaalsjJTn"
      },
      "id": "U8nbaalsjJTn"
    },
    {
      "cell_type": "code",
      "source": [
        "import numpy as np\n",
        "\n",
        "print(\"Saída: \")\n",
        "\n",
        "listCitys = ['Brasília','Goiânia','Belo horizonte']\n",
        "print(listCitys)"
      ],
      "metadata": {
        "id": "70Xy_WCYjmMv",
        "outputId": "be09d007-d7d4-4688-a35e-5bb69c59208b",
        "colab": {
          "base_uri": "https://localhost:8080/"
        }
      },
      "id": "70Xy_WCYjmMv",
      "execution_count": null,
      "outputs": [
        {
          "output_type": "stream",
          "name": "stdout",
          "text": [
            "Saída: \n",
            "['Brasília', 'Goiânia', 'Belo horizonte']\n"
          ]
        }
      ]
    },
    {
      "cell_type": "markdown",
      "source": [
        "#### ***Principais funções com arrays***\n",
        "Um ndarray é um contêiner multidimensional genérico para dados homogêneos, ou seja, todos os elementos devem ser do mesmo tipo.\n",
        "\n",
        "* ***`array( )`***: converte dados de entrada (lista, tupla, array ou outro tipo de sequência) em um ndarray;\n",
        "\n",
        "* ***`arange( )`***: como o intervalo interno, mas retorna um ndarray em vez de uma lista;\n",
        "\n",
        "* ***`Ones( )`***: produza uma matriz de todos os 1s com a forma e o tipo especificados. Já a função ones_like leva outra array e produz um array ones da mesma forma e tipo;\n",
        "\n",
        "* ***`Zeros( )`***: produz arrays de zer;\n",
        "\n",
        "* ***`Empty()`***: produz um array vazio, não necessariamente com zeros.\n",
        "\n",
        "\n",
        "##### **Exemplos:**"
      ],
      "metadata": {
        "id": "I7Y_H8BfkjSs"
      },
      "id": "I7Y_H8BfkjSs"
    },
    {
      "cell_type": "code",
      "source": [
        "import numpy as np\n",
        "\n",
        "print(\"Saída: \")\n",
        "\n",
        "dados = [3,5,7,9]\n",
        "print(f\"\\n Dados = {dados}\")\n",
        "\n",
        "array = np.array(dados)\n",
        "print(f\"\\n Array = {array}\")\n",
        "\n",
        "var_arange = np.arange(10)\n",
        "print(f\"\\n Arange = {var_arange}\")\n",
        "\n",
        "var_ones = np.ones((2,2))\n",
        "print(f\"\\n Ones = {var_ones}\")\n",
        "\n",
        "var_zerosX = np.zeros((10))\n",
        "print(f\"\\n Zeros = {var_zerosX}\")\n",
        "\n",
        "var_zerosM = np.zeros((2,3))\n",
        "print(f\"\\n Zeros = {var_zerosM}\")\n",
        "\n",
        "var_empty = np.empty((2,3))\n",
        "print(f\"\\n Empty = {var_empty}\")"
      ],
      "metadata": {
        "id": "lfjg6WkWprwg",
        "outputId": "a7b7f9a4-3e60-4f65-dc04-a5908b33b0b1",
        "colab": {
          "base_uri": "https://localhost:8080/"
        }
      },
      "id": "lfjg6WkWprwg",
      "execution_count": null,
      "outputs": [
        {
          "output_type": "stream",
          "name": "stdout",
          "text": [
            "Saída: \n",
            "\n",
            " Dados = [3, 5, 7, 9]\n",
            "\n",
            " Array = [3 5 7 9]\n",
            "\n",
            " Arange = [0 1 2 3 4 5 6 7 8 9]\n",
            "\n",
            " Ones = [[1. 1.]\n",
            " [1. 1.]]\n",
            "\n",
            " Zeros = [0. 0. 0. 0. 0. 0. 0. 0. 0. 0.]\n",
            "\n",
            " Zeros = [[0. 0. 0.]\n",
            " [0. 0. 0.]]\n",
            "\n",
            " Empty = [[0. 0. 0.]\n",
            " [0. 0. 0.]]\n"
          ]
        }
      ]
    },
    {
      "cell_type": "markdown",
      "source": [
        "#### ***Operações com arrays***\n",
        "Outra vantagem do array é poder realizar operações em lote com os dados, sem precisar utilizar um loop,\n",
        "também conhecido com vetorização. Inclusive muitas operações simples como **`sqrt`** ou **`exp`**."
      ],
      "metadata": {
        "id": "AqWEgeDXt2z3"
      },
      "id": "AqWEgeDXt2z3"
    },
    {
      "cell_type": "code",
      "source": [
        "import numpy as np\n",
        "\n",
        "print(\"Saída: \")\n",
        "\n",
        "a1 = np.array([[1,2,3],[4,5,6]])\n",
        "print(f\"\\n Array1 = {a1}\")\n",
        "\n",
        "a2 = np.ones((2,3))\n",
        "print(f\"\\n Array2 = {a2}\")\n",
        "\n",
        "var_sum = a1+a2\n",
        "print(f\"\\n Array1 + Array2 = {var_sum}\")\n",
        "\n",
        "var_exp = a1**a2\n",
        "print(f\"\\n Array1 elevado a 2 {var_exp}\")\n",
        "\n",
        "var_sub = a1-a2\n",
        "print(f\"\\n Arra1 - Array2 = {var_sub}\")"
      ],
      "metadata": {
        "id": "Sl6_5P8qt0ST",
        "outputId": "cc416aa9-6f96-4287-9232-c00d2ddeabfc",
        "colab": {
          "base_uri": "https://localhost:8080/"
        }
      },
      "id": "Sl6_5P8qt0ST",
      "execution_count": null,
      "outputs": [
        {
          "output_type": "stream",
          "name": "stdout",
          "text": [
            "Saída: \n",
            "\n",
            " Array1 = [[1 2 3]\n",
            " [4 5 6]]\n",
            "\n",
            " Array2 = [[1. 1. 1.]\n",
            " [1. 1. 1.]]\n",
            "\n",
            " Array1 + Array2 = [[2. 3. 4.]\n",
            " [5. 6. 7.]]\n",
            "\n",
            " Array1 elevado a 2 [[1. 2. 3.]\n",
            " [4. 5. 6.]]\n",
            "\n",
            " Arra1 - Array2 = [[0. 1. 2.]\n",
            " [3. 4. 5.]]\n"
          ]
        }
      ]
    },
    {
      "cell_type": "markdown",
      "source": [
        "#### ***Outras operações com arrays***\n",
        "Observe que existe uma importante diferença entre lista e arrays. Fatias de um array são visualizações do array original. Portanto, os dados não são copiados e quaisquer modificações na exibição serão refletidas no array original."
      ],
      "metadata": {
        "id": "VjKvWnFmymGt"
      },
      "id": "VjKvWnFmymGt"
    },
    {
      "cell_type": "code",
      "source": [
        "print(\"Saída: \")\n",
        "\n",
        "myList = [3,4,5,7]\n",
        "print(f\"\\n Lista = {myList}\")\n",
        "\n",
        "outList = myList[1:3]\n",
        "print(f\"\\n Parte da lista = {outList}\")\n",
        "\n",
        "outList[1] = 23\n",
        "print(f\"\\n modifica a parte da lista = {outList}\")\n",
        "\n",
        "print(f\"\\n Voltando à lista original = {myList}\")"
      ],
      "metadata": {
        "id": "gudE8bokzPIc",
        "outputId": "2adccd30-5033-445e-c283-ac37e4ac4787",
        "colab": {
          "base_uri": "https://localhost:8080/"
        }
      },
      "id": "gudE8bokzPIc",
      "execution_count": null,
      "outputs": [
        {
          "output_type": "stream",
          "name": "stdout",
          "text": [
            "Saída: \n",
            "\n",
            " Lista = [3, 4, 5, 7]\n",
            "\n",
            " Parte da lista = [4, 5]\n",
            "\n",
            " modifica a parte da lista = [4, 23]\n",
            "\n",
            " Voltando à lista original = [3, 4, 5, 7]\n"
          ]
        }
      ]
    },
    {
      "cell_type": "markdown",
      "source": [
        "Em matrizes multidimensionais, se você omitir índices posteriores, o objeto retornado será uma dimensão\n",
        "dimensional ndarray que consiste em todos os dados ao longo das dimensões mais altas."
      ],
      "metadata": {
        "id": "mB0auhklJoLW"
      },
      "id": "mB0auhklJoLW"
    },
    {
      "cell_type": "code",
      "source": [
        "import numpy as np\n",
        "\n",
        "print(\"Saída: \")\n",
        "\n",
        "array3d = np.array([[[1,2,3],[4,5,6]],[[7,8,9],[10,11,12]]])\n",
        "\n",
        "print(f\"\\n\\n array 3d: \\n {array3d}\")\n",
        "\n",
        "print(f\"\\n\\n Primeriro Array: \\n {array3d[0]}\")\n",
        "\n",
        "old_values = array3d[0].copy()\n",
        "print(f\"\\n\\n copiando os dados do primeito array: \\n {old_values}\")\n",
        "\n",
        "array3d[0] = 25\n",
        "print(f\"\\n\\n Mudando valor so primeiro array: \\n {array3d[0]}\")\n",
        "\n",
        "array3d[0] = old_values\n",
        "print(f\"\\n\\n Voltando para o primeiro array {array3d[0]}\")"
      ],
      "metadata": {
        "id": "cPeHKresJN4U",
        "outputId": "f7c7560b-7036-4389-a3c1-dfa221d13648",
        "colab": {
          "base_uri": "https://localhost:8080/"
        }
      },
      "id": "cPeHKresJN4U",
      "execution_count": 3,
      "outputs": [
        {
          "output_type": "stream",
          "name": "stdout",
          "text": [
            "Saída: \n",
            "\n",
            "\n",
            " array 3d: \n",
            " [[[ 1  2  3]\n",
            "  [ 4  5  6]]\n",
            "\n",
            " [[ 7  8  9]\n",
            "  [10 11 12]]]\n",
            "\n",
            "\n",
            " Primeriro Array: \n",
            " [[1 2 3]\n",
            " [4 5 6]]\n",
            "\n",
            "\n",
            " copiando os dados do primeito array: \n",
            " [[1 2 3]\n",
            " [4 5 6]]\n",
            "\n",
            "\n",
            " Mudando valor so primeiro array: \n",
            " [[25 25 25]\n",
            " [25 25 25]]\n",
            "\n",
            "\n",
            " Voltando para o primeiro array [[1 2 3]\n",
            " [4 5 6]]\n"
          ]
        }
      ]
    },
    {
      "cell_type": "markdown",
      "source": [
        "# **Pandas**"
      ],
      "metadata": {
        "id": "1i3llO9jNeH2"
      },
      "id": "1i3llO9jNeH2"
    },
    {
      "cell_type": "markdown",
      "source": [
        "O pandas é uma biblioteca de código aberto, licenciada por BSD, que fornece estruturas de dados de alto\n",
        "desempenho e fáceis de usar e ferramentas de análise de dados para a linguagem de programação Python. Algumas\n",
        "coisas básicas sobre o Pandas:\n",
        "\n",
        "* Introduz o conceito de Data Frame no Python, que são estruturas de dados alinhados de forma de tabela em\n",
        "linhas e colunas, divididos em dados , linhas e colunas.\n",
        "* Possui várias funções para manipulação dos dados;\n",
        "* É baseada em NumPy."
      ],
      "metadata": {
        "id": "-I5TOAV4NydX"
      },
      "id": "-I5TOAV4NydX"
    },
    {
      "cell_type": "markdown",
      "source": [
        "#### **Leitura e carregamento de dados**\n",
        "\n",
        "Existem diferentes formatos de armazenamento de dados em arquivos. Não conseguiremos tratar todas as\n",
        "possibilidades, porém podemos destcar os seguintes:\n",
        "* Dados delimitados em texto (csv);\n",
        "* Microsoft Excel (xls, xlsx);\n",
        "* Arquivos nativos do R (RData e rds)\n",
        "* Formato fst (fst)\n",
        "* SQLite (SQLITE)\n",
        "* Texto não estruturado (txt).\n",
        "\n",
        "O Pandas possui funcoes para leitura de dados em diversos formatos, vamos comecar com o formato mais\n",
        "simples: csv. Utilizaremos como base de estudo um conjunto de dados contém uma lista de videogames com\n",
        "vendas superiores a 100.000 cópias. Disponível também em:\n",
        "\n",
        "https://www.kaggle.com/gregorut/videogamesales#vgsales.csv\n",
        "\n",
        "Os campos dessa base de dados incluem:\n",
        "\n",
        "* Rank: classificação das vendas globais\n",
        "* Name: o nome dos jogos\n",
        "* Platform: plataforma do lançamento dos jogos (PC, PS4 etc.)\n",
        "* Year: ano do lançamento do jogo\n",
        "* Genre: gênero do jogo\n",
        "* Publisher: editora do jogo\n",
        "* NA_Sales: vendas na América do Norte (em milhões)\n",
        "* EU_Sales: vendas na Europa (em milhões)\n",
        "* JP_Sales: vendas no Japão (em milhões)\n",
        "* Other_Sales: vendas no resto do mundo (em milhões)\n",
        "* Global_Sales: total de vendas em todo o mundo.\n"
      ],
      "metadata": {
        "id": "OT8n54jSQOjw"
      },
      "id": "OT8n54jSQOjw"
    },
    {
      "cell_type": "markdown",
      "source": [
        "#### **Importando o Pandas**\n",
        "Vamos iniciar os trabalhos com o uso da função read_csv(), que pode utilizar\n",
        "diversos parâmteros, cujos detalhes podem ser obtidos em:\n",
        "\n",
        "https://pandas.pydata.org/pandas-docs/stable/reference/api/pandas.read_csv.html\n",
        "\n",
        "Básico:\n",
        "* **`sep:`** Delimitador para usar.\n",
        "* **`header`**: Número(s) de linha a ser usado como nome da coluna e início dos dados.\n",
        "* **`names`**: Lista de nomes de colunas a serem usados. Se o arquivo não contiver nenhuma linha de cabeçalho,\n",
        "você deve passar explicitamente header=None. Duplicatas nesta lista não são permitidas.\n",
        "\n",
        "***Exemplo:***\n",
        "\n",
        "Dados contém uma lista de videogames com vendas superiores a 100.000 cópias. Disponível em:\n",
        "\n",
        "https://www.kaggle.com/gregorut/videogamesales#vgsales.csv"
      ],
      "metadata": {
        "id": "rvL4hgqaWrox"
      },
      "id": "rvL4hgqaWrox"
    },
    {
      "cell_type": "code",
      "source": [
        "import numpy as np\n",
        "import pandas as pd\n",
        "\n",
        "print(\"Saida: \\n\")\n",
        "\n",
        "games = pd.read_csv(\n",
        "      \"vgsales.csv\",\n",
        "      sep = ',',\n",
        "      header = 0\n",
        ")\n",
        "\n",
        "print(games.shape)\n",
        "games.head()"
      ],
      "metadata": {
        "id": "c66AuPbpNoKX",
        "outputId": "2068ad31-61b5-473e-a63d-8661a4453c60",
        "colab": {
          "base_uri": "https://localhost:8080/",
          "height": 265
        }
      },
      "id": "c66AuPbpNoKX",
      "execution_count": 5,
      "outputs": [
        {
          "output_type": "stream",
          "name": "stdout",
          "text": [
            "Saida: \n",
            "\n",
            "(16598, 11)\n"
          ]
        },
        {
          "output_type": "execute_result",
          "data": {
            "text/plain": [
              "   Rank                      Name Platform    Year         Genre Publisher  \\\n",
              "0     1                Wii Sports      Wii  2006.0        Sports  Nintendo   \n",
              "1     2         Super Mario Bros.      NES  1985.0      Platform  Nintendo   \n",
              "2     3            Mario Kart Wii      Wii  2008.0        Racing  Nintendo   \n",
              "3     4         Wii Sports Resort      Wii  2009.0        Sports  Nintendo   \n",
              "4     5  Pokemon Red/Pokemon Blue       GB  1996.0  Role-Playing  Nintendo   \n",
              "\n",
              "   NA_Sales  EU_Sales  JP_Sales  Other_Sales  Global_Sales  \n",
              "0     41.49     29.02      3.77         8.46         82.74  \n",
              "1     29.08      3.58      6.81         0.77         40.24  \n",
              "2     15.85     12.88      3.79         3.31         35.82  \n",
              "3     15.75     11.01      3.28         2.96         33.00  \n",
              "4     11.27      8.89     10.22         1.00         31.37  "
            ],
            "text/html": [
              "\n",
              "  <div id=\"df-64d5890b-9498-41d0-8119-5b6ab8240be9\">\n",
              "    <div class=\"colab-df-container\">\n",
              "      <div>\n",
              "<style scoped>\n",
              "    .dataframe tbody tr th:only-of-type {\n",
              "        vertical-align: middle;\n",
              "    }\n",
              "\n",
              "    .dataframe tbody tr th {\n",
              "        vertical-align: top;\n",
              "    }\n",
              "\n",
              "    .dataframe thead th {\n",
              "        text-align: right;\n",
              "    }\n",
              "</style>\n",
              "<table border=\"1\" class=\"dataframe\">\n",
              "  <thead>\n",
              "    <tr style=\"text-align: right;\">\n",
              "      <th></th>\n",
              "      <th>Rank</th>\n",
              "      <th>Name</th>\n",
              "      <th>Platform</th>\n",
              "      <th>Year</th>\n",
              "      <th>Genre</th>\n",
              "      <th>Publisher</th>\n",
              "      <th>NA_Sales</th>\n",
              "      <th>EU_Sales</th>\n",
              "      <th>JP_Sales</th>\n",
              "      <th>Other_Sales</th>\n",
              "      <th>Global_Sales</th>\n",
              "    </tr>\n",
              "  </thead>\n",
              "  <tbody>\n",
              "    <tr>\n",
              "      <th>0</th>\n",
              "      <td>1</td>\n",
              "      <td>Wii Sports</td>\n",
              "      <td>Wii</td>\n",
              "      <td>2006.0</td>\n",
              "      <td>Sports</td>\n",
              "      <td>Nintendo</td>\n",
              "      <td>41.49</td>\n",
              "      <td>29.02</td>\n",
              "      <td>3.77</td>\n",
              "      <td>8.46</td>\n",
              "      <td>82.74</td>\n",
              "    </tr>\n",
              "    <tr>\n",
              "      <th>1</th>\n",
              "      <td>2</td>\n",
              "      <td>Super Mario Bros.</td>\n",
              "      <td>NES</td>\n",
              "      <td>1985.0</td>\n",
              "      <td>Platform</td>\n",
              "      <td>Nintendo</td>\n",
              "      <td>29.08</td>\n",
              "      <td>3.58</td>\n",
              "      <td>6.81</td>\n",
              "      <td>0.77</td>\n",
              "      <td>40.24</td>\n",
              "    </tr>\n",
              "    <tr>\n",
              "      <th>2</th>\n",
              "      <td>3</td>\n",
              "      <td>Mario Kart Wii</td>\n",
              "      <td>Wii</td>\n",
              "      <td>2008.0</td>\n",
              "      <td>Racing</td>\n",
              "      <td>Nintendo</td>\n",
              "      <td>15.85</td>\n",
              "      <td>12.88</td>\n",
              "      <td>3.79</td>\n",
              "      <td>3.31</td>\n",
              "      <td>35.82</td>\n",
              "    </tr>\n",
              "    <tr>\n",
              "      <th>3</th>\n",
              "      <td>4</td>\n",
              "      <td>Wii Sports Resort</td>\n",
              "      <td>Wii</td>\n",
              "      <td>2009.0</td>\n",
              "      <td>Sports</td>\n",
              "      <td>Nintendo</td>\n",
              "      <td>15.75</td>\n",
              "      <td>11.01</td>\n",
              "      <td>3.28</td>\n",
              "      <td>2.96</td>\n",
              "      <td>33.00</td>\n",
              "    </tr>\n",
              "    <tr>\n",
              "      <th>4</th>\n",
              "      <td>5</td>\n",
              "      <td>Pokemon Red/Pokemon Blue</td>\n",
              "      <td>GB</td>\n",
              "      <td>1996.0</td>\n",
              "      <td>Role-Playing</td>\n",
              "      <td>Nintendo</td>\n",
              "      <td>11.27</td>\n",
              "      <td>8.89</td>\n",
              "      <td>10.22</td>\n",
              "      <td>1.00</td>\n",
              "      <td>31.37</td>\n",
              "    </tr>\n",
              "  </tbody>\n",
              "</table>\n",
              "</div>\n",
              "      <button class=\"colab-df-convert\" onclick=\"convertToInteractive('df-64d5890b-9498-41d0-8119-5b6ab8240be9')\"\n",
              "              title=\"Convert this dataframe to an interactive table.\"\n",
              "              style=\"display:none;\">\n",
              "        \n",
              "  <svg xmlns=\"http://www.w3.org/2000/svg\" height=\"24px\"viewBox=\"0 0 24 24\"\n",
              "       width=\"24px\">\n",
              "    <path d=\"M0 0h24v24H0V0z\" fill=\"none\"/>\n",
              "    <path d=\"M18.56 5.44l.94 2.06.94-2.06 2.06-.94-2.06-.94-.94-2.06-.94 2.06-2.06.94zm-11 1L8.5 8.5l.94-2.06 2.06-.94-2.06-.94L8.5 2.5l-.94 2.06-2.06.94zm10 10l.94 2.06.94-2.06 2.06-.94-2.06-.94-.94-2.06-.94 2.06-2.06.94z\"/><path d=\"M17.41 7.96l-1.37-1.37c-.4-.4-.92-.59-1.43-.59-.52 0-1.04.2-1.43.59L10.3 9.45l-7.72 7.72c-.78.78-.78 2.05 0 2.83L4 21.41c.39.39.9.59 1.41.59.51 0 1.02-.2 1.41-.59l7.78-7.78 2.81-2.81c.8-.78.8-2.07 0-2.86zM5.41 20L4 18.59l7.72-7.72 1.47 1.35L5.41 20z\"/>\n",
              "  </svg>\n",
              "      </button>\n",
              "      \n",
              "  <style>\n",
              "    .colab-df-container {\n",
              "      display:flex;\n",
              "      flex-wrap:wrap;\n",
              "      gap: 12px;\n",
              "    }\n",
              "\n",
              "    .colab-df-convert {\n",
              "      background-color: #E8F0FE;\n",
              "      border: none;\n",
              "      border-radius: 50%;\n",
              "      cursor: pointer;\n",
              "      display: none;\n",
              "      fill: #1967D2;\n",
              "      height: 32px;\n",
              "      padding: 0 0 0 0;\n",
              "      width: 32px;\n",
              "    }\n",
              "\n",
              "    .colab-df-convert:hover {\n",
              "      background-color: #E2EBFA;\n",
              "      box-shadow: 0px 1px 2px rgba(60, 64, 67, 0.3), 0px 1px 3px 1px rgba(60, 64, 67, 0.15);\n",
              "      fill: #174EA6;\n",
              "    }\n",
              "\n",
              "    [theme=dark] .colab-df-convert {\n",
              "      background-color: #3B4455;\n",
              "      fill: #D2E3FC;\n",
              "    }\n",
              "\n",
              "    [theme=dark] .colab-df-convert:hover {\n",
              "      background-color: #434B5C;\n",
              "      box-shadow: 0px 1px 3px 1px rgba(0, 0, 0, 0.15);\n",
              "      filter: drop-shadow(0px 1px 2px rgba(0, 0, 0, 0.3));\n",
              "      fill: #FFFFFF;\n",
              "    }\n",
              "  </style>\n",
              "\n",
              "      <script>\n",
              "        const buttonEl =\n",
              "          document.querySelector('#df-64d5890b-9498-41d0-8119-5b6ab8240be9 button.colab-df-convert');\n",
              "        buttonEl.style.display =\n",
              "          google.colab.kernel.accessAllowed ? 'block' : 'none';\n",
              "\n",
              "        async function convertToInteractive(key) {\n",
              "          const element = document.querySelector('#df-64d5890b-9498-41d0-8119-5b6ab8240be9');\n",
              "          const dataTable =\n",
              "            await google.colab.kernel.invokeFunction('convertToInteractive',\n",
              "                                                     [key], {});\n",
              "          if (!dataTable) return;\n",
              "\n",
              "          const docLinkHtml = 'Like what you see? Visit the ' +\n",
              "            '<a target=\"_blank\" href=https://colab.research.google.com/notebooks/data_table.ipynb>data table notebook</a>'\n",
              "            + ' to learn more about interactive tables.';\n",
              "          element.innerHTML = '';\n",
              "          dataTable['output_type'] = 'display_data';\n",
              "          await google.colab.output.renderOutput(dataTable, element);\n",
              "          const docLink = document.createElement('div');\n",
              "          docLink.innerHTML = docLinkHtml;\n",
              "          element.appendChild(docLink);\n",
              "        }\n",
              "      </script>\n",
              "    </div>\n",
              "  </div>\n",
              "  "
            ]
          },
          "metadata": {},
          "execution_count": 5
        }
      ]
    },
    {
      "cell_type": "markdown",
      "source": [
        "#### **Outro exemplo:**\n",
        "Dados coletados do catálogo de dados abertos sibre crimes da cidade de Vancouver.\n",
        "\n",
        "***Disponível em:***\n",
        "\n",
        "https://www.kaggle.com/agilesifaka/vancouver-crime-report/downloads/vancouver-crime-report.zip/1"
      ],
      "metadata": {
        "id": "yzoAFPyFapcC"
      },
      "id": "yzoAFPyFapcC"
    },
    {
      "cell_type": "code",
      "source": [
        "import numpy as np\n",
        "import pandas as pd\n",
        "\n",
        "games = pd.read_csv(\n",
        "    \"crime_records.csv\",\n",
        "    sep=',',\n",
        "    header=0\n",
        ")\n",
        "\n",
        "print(games.shape)\n",
        "games.head()"
      ],
      "metadata": {
        "id": "TjQKknzKY0nJ"
      },
      "id": "TjQKknzKY0nJ",
      "execution_count": null,
      "outputs": []
    },
    {
      "cell_type": "markdown",
      "source": [
        "#### **Obtendo descrições e tipos dos dados**\n",
        "Precisamos sempre verificar se o carregamento dos dados foram feitos de forma correta, e se foram lidos no\n",
        "formato correto, para isso podemos fazer o seguinte:"
      ],
      "metadata": {
        "id": "lJ4u4mcSbw-y"
      },
      "id": "lJ4u4mcSbw-y"
    },
    {
      "cell_type": "code",
      "source": [
        "print(games.describe(),\"\\n\")\n",
        "print(games.dtypes)"
      ],
      "metadata": {
        "id": "CKR9EklocVQC",
        "outputId": "a151dfdb-b09c-4523-8686-dbde48598e78",
        "colab": {
          "base_uri": "https://localhost:8080/"
        }
      },
      "id": "CKR9EklocVQC",
      "execution_count": 7,
      "outputs": [
        {
          "output_type": "stream",
          "name": "stdout",
          "text": [
            "               Rank          Year      NA_Sales      EU_Sales      JP_Sales  \\\n",
            "count  16598.000000  16327.000000  16598.000000  16598.000000  16598.000000   \n",
            "mean    8300.605254   2006.406443      0.264667      0.146652      0.077782   \n",
            "std     4791.853933      5.828981      0.816683      0.505351      0.309291   \n",
            "min        1.000000   1980.000000      0.000000      0.000000      0.000000   \n",
            "25%     4151.250000   2003.000000      0.000000      0.000000      0.000000   \n",
            "50%     8300.500000   2007.000000      0.080000      0.020000      0.000000   \n",
            "75%    12449.750000   2010.000000      0.240000      0.110000      0.040000   \n",
            "max    16600.000000   2020.000000     41.490000     29.020000     10.220000   \n",
            "\n",
            "        Other_Sales  Global_Sales  \n",
            "count  16598.000000  16598.000000  \n",
            "mean       0.048063      0.537441  \n",
            "std        0.188588      1.555028  \n",
            "min        0.000000      0.010000  \n",
            "25%        0.000000      0.060000  \n",
            "50%        0.010000      0.170000  \n",
            "75%        0.040000      0.470000  \n",
            "max       10.570000     82.740000   \n",
            "\n",
            "Rank              int64\n",
            "Name             object\n",
            "Platform         object\n",
            "Year            float64\n",
            "Genre            object\n",
            "Publisher        object\n",
            "NA_Sales        float64\n",
            "EU_Sales        float64\n",
            "JP_Sales        float64\n",
            "Other_Sales     float64\n",
            "Global_Sales    float64\n",
            "dtype: object\n"
          ]
        }
      ]
    }
  ],
  "metadata": {
    "kernelspec": {
      "display_name": "Python 3 (ipykernel)",
      "language": "python",
      "name": "python3"
    },
    "language_info": {
      "codemirror_mode": {
        "name": "ipython",
        "version": 3
      },
      "file_extension": ".py",
      "mimetype": "text/x-python",
      "name": "python",
      "nbconvert_exporter": "python",
      "pygments_lexer": "ipython3",
      "version": "3.9.13"
    },
    "colab": {
      "provenance": [],
      "toc_visible": true,
      "include_colab_link": true
    }
  },
  "nbformat": 4,
  "nbformat_minor": 5
}